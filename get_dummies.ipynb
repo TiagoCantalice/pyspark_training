{
 "cells": [
  {
   "cell_type": "code",
   "execution_count": 1,
   "metadata": {},
   "outputs": [],
   "source": [
    "import findspark\n",
    "findspark.init()"
   ]
  },
  {
   "cell_type": "code",
   "execution_count": 2,
   "metadata": {},
   "outputs": [],
   "source": [
    "import pyspark\n",
    "\n",
    "from pyspark.sql import SparkSession"
   ]
  },
  {
   "cell_type": "code",
   "execution_count": 3,
   "metadata": {},
   "outputs": [],
   "source": [
    "spark = SparkSession.builder.appName('exec_lr').getOrCreate()"
   ]
  },
  {
   "cell_type": "code",
   "execution_count": 4,
   "metadata": {},
   "outputs": [],
   "source": [
    "def get_dummies(dataframe, column_name):\n",
    "\n",
    "    import pyspark.sql.functions as F\n",
    "    \n",
    "    list_values = [dataframe.select(column_name).distinct().collect()[i][0] for i in range(0, dataframe.select(column_name).distinct().count())]\n",
    "    dummies_col = [F.when(F.col(column_name) == value, 1).otherwise(0).alias(\"{}_{}\".format(column_name, value)) for value in list_values]\n",
    "    \n",
    "    return dataframe.select(column_name, *dummies_col)"
   ]
  }
 ],
 "metadata": {
  "kernelspec": {
   "display_name": "Python 3",
   "language": "python",
   "name": "python3"
  },
  "language_info": {
   "codemirror_mode": {
    "name": "ipython",
    "version": 3
   },
   "file_extension": ".py",
   "mimetype": "text/x-python",
   "name": "python",
   "nbconvert_exporter": "python",
   "pygments_lexer": "ipython3",
   "version": "3.7.6"
  }
 },
 "nbformat": 4,
 "nbformat_minor": 4
}
